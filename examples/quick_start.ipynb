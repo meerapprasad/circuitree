{
 "cells": [
  {
   "attachments": {},
   "cell_type": "markdown",
   "metadata": {},
   "source": [
    "## Note\n",
    "⚠⚠ *This API is in early-stage development. Structure, naming conventions, and features may change without notice!* ⚠⚠"
   ]
  },
  {
   "cell_type": "code",
   "execution_count": 1,
   "metadata": {},
   "outputs": [],
   "source": [
    "import circuitree as ct"
   ]
  },
  {
   "attachments": {},
   "cell_type": "markdown",
   "metadata": {},
   "source": [
    "## Installation\n",
    "If you have not already followed the installation instructions, please do this first."
   ]
  },
  {
   "attachments": {},
   "cell_type": "markdown",
   "metadata": {},
   "source": [
    "# Quick start\n",
    "\n",
    "`circuitree` is a package for designing network topologies (*circuits*) by executing a tree search. Circuits are arranged in a tree by considering each circuit to be assembled in discrete steps (called *actions*). Each sequence of actions produces a circuit, and together, the union of all possible assembly sequences forms a searchable decision tree.\n",
    "\n",
    "The class `CircuiTree` is an abstract class that contains the machinery for executing the search. To use `CircuiTree`, create a subclass that specifies the rules for assembling and representing circuits. An example of the intended usage is below."
   ]
  },
  {
   "attachments": {},
   "cell_type": "markdown",
   "metadata": {},
   "source": [
    "### Designing a simple (bio)molecular circuit\n",
    "\n",
    "First, we need to define a space of circuits that could be assembled and define some rules for assembly. \n",
    "\n",
    "Let's consider a design space containing two molecular components `A` and `B` that can interact with each other or themselves in an inhibitory or activating manner."
   ]
  },
  {
   "cell_type": "code",
   "execution_count": 2,
   "metadata": {},
   "outputs": [],
   "source": [
    "components = [\"A\", \"B\"]\n",
    "interactions = [\"activates\", \"inhibits\"]"
   ]
  },
  {
   "attachments": {},
   "cell_type": "markdown",
   "metadata": {},
   "source": [
    "We need to also choose a way to represent each circuit uniquely with a string, called the `state` (or `state`). At minimum, the string should encode (i) which components are present, (ii) which interactions are present, and (iii) whether or not the assembly has terminated. It may also ensure that each unique circuit gets a unique string. For example, let's use the following representation:\n",
    "* Each component is an uppercase letter (`A` and `B`) \n",
    "* Each type of interaction is a lowercase letter (`a` and `i` for activation and inhibition, respectively)\n",
    "* Terminated (fully assembled) circuits begin with an asterisk `*`\n",
    "* Each interaction has a 3-character code. `ABi` can be read \"`A` inhibits `B`\"\n",
    "* Interactions are separated by an underscore `_`\n",
    "* Components are separated from interactions by colons `::`\n",
    "* Components and interactions are sorted in alphabetic order\n",
    "\n",
    "For instance, the state string `*AB::ABi_BAi` denotes a terminally assembled circuit with components `A` and `B` that inhibit each other (i.e. a toggle switch). Sorting the interactions ensures that assembly steps are associative and order doesn't matter (`ABi` then `BAi` yields the same string as `BAi` then `ABi`). Also note that this representation does not account for symmetry, so if we assemble two circuits that are identical but the labels `A` and `B` are switched, they will have different state strings.\n",
    "\n",
    "Recall that `CircuiTree` is an abstract class, which means we have to create a subclass before we can use it. Let's look at how we can encode this system for representing our circuits into our own subclass of `CircuiTree`."
   ]
  },
  {
   "cell_type": "code",
   "execution_count": 6,
   "metadata": {},
   "outputs": [
    {
     "name": "stdout",
     "output_type": "stream",
     "text": [
      "To use the CircuiTree class, define the following methods:\n",
      "\tget_unique_state\n",
      "\tget_reward\n",
      "\tis_terminal\n",
      "\tdo_action\n",
      "\tget_actions\n"
     ]
    }
   ],
   "source": [
    "from circuitree import CircuiTree\n",
    "print(f\"To use the CircuiTree class, define the following methods:\")\n",
    "print(*[f\"\\t{m}\" for m in CircuiTree.__abstractmethods__], sep=\"\\n\")"
   ]
  },
  {
   "attachments": {},
   "cell_type": "markdown",
   "metadata": {},
   "source": [
    "We can easily define `is_terminal` and `get_unique_state` based on our rules for string representation."
   ]
  },
  {
   "cell_type": "code",
   "execution_count": null,
   "metadata": {},
   "outputs": [],
   "source": [
    "class MyTree(CircuiTree):\n",
    "    def __init__(self, components, interactions, root, **kwargs):\n",
    "        super().__init__(**kwargs)\n",
    "        self.components = components\n",
    "        self.interactions = interactions\n",
    "        self.root = root\n",
    "\n",
    "    def is_terminal(self, state):\n",
    "        \"\"\"Return True if the state is a terminal state.\"\"\"\n",
    "        return state.startswith(\"*\")\n",
    "\n",
    "    def get_unique_state(self, state: str) -> str:\n",
    "        \"\"\"Return a unique state name.\"\"\"\n",
    "        components, interactions = state.split(\"::\")\n",
    "        if components.startswith(\"*\"):\n",
    "            prefix = \"*\"\n",
    "            components = components[1:]\n",
    "        else:\n",
    "            prefix = \"\"\n",
    "        unique_components = \"\".join(sorted(components))\n",
    "        unique_interactions = \"_\".join(sorted(interactions.split(\"_\")))\n",
    "        return prefix + unique_components + \"::\" + unique_interactions"
   ]
  },
  {
   "attachments": {},
   "cell_type": "markdown",
   "metadata": {},
   "source": [
    "The methods `do_action` and `get_actions`  When assembling a circuit, we consider the assembly to be a sequence of `state`s and `action`s. \n",
    "* `state`: A stage in circuit assembly. Can be terminal or non-terminal (intermediate). Represented by a string.\n",
    "* `action`: Transforms one state into the next. Non-terminal states may have multiple possible actions available. Terminal states have no available actions by definition.\n",
    "\n",
    "We arrange these in a tree**, where nodes of the graph are `state`s and edges are `state`-`action` pairs that transform the `state` into another `state`. The `root` state of the tree is the common starting point for all assemblies. For the two-component case, that could be a non-terminal circuit with components `A` and `B` but no interactions - `AB::`. Assembling a circuit is therefore equivalent to traversing the tree from its root to a leaf.\n",
    "\n",
    "The function `get_actions` returns the possible actions that can be taken from a state, and the function `do_action` returns the new state that results from applying an action to a given state.\n",
    "\n",
    "** Technically, this is a rooted directed acyclic graph (DAG) because the order of assemblies doesn't matter, multiple edges can coincide on the same node. Nonetheless we use \"tree\" for simplicity."
   ]
  },
  {
   "cell_type": "code",
   "execution_count": null,
   "metadata": {},
   "outputs": [],
   "source": [
    "\n",
    "    def get_actions(self, state: str):\n",
    "        if self.is_terminal(state):\n",
    "            return list()\n",
    "\n",
    "        # Terminating assembly is always an option\n",
    "        actions = [\"*terminate*\"]\n",
    "\n",
    "        components, interactions_joined = state.strip(\"*\").split(\"::\")\n",
    "        interactions = set(ixn[:2] for ixn in interactions_joined.split(\"_\"))\n",
    "        for action_group in self.edge_options:\n",
    "            if action_group:\n",
    "                c1, c2, _ = action_group[0]\n",
    "                if (\n",
    "                    (c1 in components)\n",
    "                    and (c2 in components)\n",
    "                    and (c1 + c2) not in interactions\n",
    "                ):\n",
    "                    for action in action_group:\n",
    "                        actions.append(action)\n",
    "\n",
    "        return actions\n",
    "\n",
    "    def do_action(self, state: str, action: str) -> str:\n",
    "        if action == \"*terminate*\":\n",
    "            new_state = \"*\" + state\n",
    "        else:\n",
    "            # Root node\n",
    "            if state == \".\":\n",
    "                components = list()\n",
    "                interactions = list()\n",
    "            else:\n",
    "                components, interactions = state.split(\"::\")\n",
    "            if len(action) == 1:\n",
    "                new_state = \"\".join([components, action, \"::\", interactions])\n",
    "            elif len(action) == 3:\n",
    "                delim = (\"\", \"_\")[bool(interactions)]\n",
    "                new_state = \"::\".join(\n",
    "                    [components, delim.join([interactions, action])]\n",
    "                )\n",
    "        return new_state\n"
   ]
  }
 ],
 "metadata": {
  "kernelspec": {
   "display_name": ".venv",
   "language": "python",
   "name": "python3"
  },
  "language_info": {
   "codemirror_mode": {
    "name": "ipython",
    "version": 3
   },
   "file_extension": ".py",
   "mimetype": "text/x-python",
   "name": "python",
   "nbconvert_exporter": "python",
   "pygments_lexer": "ipython3",
   "version": "3.10.8"
  },
  "orig_nbformat": 4
 },
 "nbformat": 4,
 "nbformat_minor": 2
}
