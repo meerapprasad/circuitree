{
 "cells": [
  {
   "cell_type": "code",
   "execution_count": 1,
   "metadata": {},
   "outputs": [
    {
     "name": "stdout",
     "output_type": "stream",
     "text": [
      "Requirement already satisfied: pip in ./.tutorial-venv/lib/python3.10/site-packages (24.0)\n",
      "Note: you may need to restart the kernel to use updated packages.\n",
      "Requirement already satisfied: gevent in ./.tutorial-venv/lib/python3.10/site-packages (24.2.1)\n",
      "Requirement already satisfied: zope.event in ./.tutorial-venv/lib/python3.10/site-packages (from gevent) (5.0)\n",
      "Requirement already satisfied: zope.interface in ./.tutorial-venv/lib/python3.10/site-packages (from gevent) (6.3)\n",
      "Requirement already satisfied: greenlet>=2.0.0 in ./.tutorial-venv/lib/python3.10/site-packages (from gevent) (3.0.3)\n",
      "Requirement already satisfied: setuptools in ./.tutorial-venv/lib/python3.10/site-packages (from zope.event->gevent) (69.5.1)\n",
      "Note: you may need to restart the kernel to use updated packages.\n"
     ]
    },
    {
     "data": {
      "text/plain": [
       "True"
      ]
     },
     "execution_count": 1,
     "metadata": {},
     "output_type": "execute_result"
    }
   ],
   "source": [
    "%pip install --upgrade pip\n",
    "%pip install gevent\n",
    "from gevent import monkey\n",
    "monkey.patch_all() # required for gevent to work properly in Jupyter notebooks"
   ]
  },
  {
   "cell_type": "code",
   "execution_count": 2,
   "metadata": {},
   "outputs": [
    {
     "name": "stdout",
     "output_type": "stream",
     "text": [
      "Requirement already satisfied: numpy in ./.tutorial-venv/lib/python3.10/site-packages (1.26.4)\n",
      "Requirement already satisfied: scipy in ./.tutorial-venv/lib/python3.10/site-packages (1.13.0)\n",
      "Requirement already satisfied: numba in ./.tutorial-venv/lib/python3.10/site-packages (0.59.1)\n"
     ]
    },
    {
     "name": "stdout",
     "output_type": "stream",
     "text": [
      "Requirement already satisfied: matplotlib in ./.tutorial-venv/lib/python3.10/site-packages (3.8.4)\n",
      "Requirement already satisfied: tqdm in ./.tutorial-venv/lib/python3.10/site-packages (4.66.2)\n",
      "Requirement already satisfied: ipympl in ./.tutorial-venv/lib/python3.10/site-packages (0.9.4)\n",
      "Requirement already satisfied: ffmpeg in ./.tutorial-venv/lib/python3.10/site-packages (1.4)\n",
      "Requirement already satisfied: watermark in ./.tutorial-venv/lib/python3.10/site-packages (2.4.3)\n",
      "Requirement already satisfied: celery[redis] in ./.tutorial-venv/lib/python3.10/site-packages (5.4.0)\n",
      "Requirement already satisfied: billiard<5.0,>=4.2.0 in ./.tutorial-venv/lib/python3.10/site-packages (from celery[redis]) (4.2.0)\n",
      "Requirement already satisfied: kombu<6.0,>=5.3.4 in ./.tutorial-venv/lib/python3.10/site-packages (from celery[redis]) (5.3.7)\n",
      "Requirement already satisfied: vine<6.0,>=5.1.0 in ./.tutorial-venv/lib/python3.10/site-packages (from celery[redis]) (5.1.0)\n",
      "Requirement already satisfied: click<9.0,>=8.1.2 in ./.tutorial-venv/lib/python3.10/site-packages (from celery[redis]) (8.1.7)\n",
      "Requirement already satisfied: click-didyoumean>=0.3.0 in ./.tutorial-venv/lib/python3.10/site-packages (from celery[redis]) (0.3.1)\n",
      "Requirement already satisfied: click-repl>=0.2.0 in ./.tutorial-venv/lib/python3.10/site-packages (from celery[redis]) (0.3.0)\n",
      "Requirement already satisfied: click-plugins>=1.1.1 in ./.tutorial-venv/lib/python3.10/site-packages (from celery[redis]) (1.1.1)\n",
      "Requirement already satisfied: tzdata>=2022.7 in ./.tutorial-venv/lib/python3.10/site-packages (from celery[redis]) (2024.1)\n",
      "Requirement already satisfied: python-dateutil>=2.8.2 in ./.tutorial-venv/lib/python3.10/site-packages (from celery[redis]) (2.9.0.post0)\n",
      "Requirement already satisfied: redis!=4.5.5,<6.0.0,>=4.5.2 in ./.tutorial-venv/lib/python3.10/site-packages (from celery[redis]) (5.0.4)\n",
      "Requirement already satisfied: llvmlite<0.43,>=0.42.0dev0 in ./.tutorial-venv/lib/python3.10/site-packages (from numba) (0.42.0)\n",
      "Requirement already satisfied: contourpy>=1.0.1 in ./.tutorial-venv/lib/python3.10/site-packages (from matplotlib) (1.2.1)\n",
      "Requirement already satisfied: cycler>=0.10 in ./.tutorial-venv/lib/python3.10/site-packages (from matplotlib) (0.12.1)\n",
      "Requirement already satisfied: fonttools>=4.22.0 in ./.tutorial-venv/lib/python3.10/site-packages (from matplotlib) (4.51.0)\n",
      "Requirement already satisfied: kiwisolver>=1.3.1 in ./.tutorial-venv/lib/python3.10/site-packages (from matplotlib) (1.4.5)\n",
      "Requirement already satisfied: packaging>=20.0 in ./.tutorial-venv/lib/python3.10/site-packages (from matplotlib) (24.0)\n",
      "Requirement already satisfied: pillow>=8 in ./.tutorial-venv/lib/python3.10/site-packages (from matplotlib) (10.3.0)\n",
      "Requirement already satisfied: pyparsing>=2.3.1 in ./.tutorial-venv/lib/python3.10/site-packages (from matplotlib) (3.1.2)\n",
      "Requirement already satisfied: ipython-genutils in ./.tutorial-venv/lib/python3.10/site-packages (from ipympl) (0.2.0)\n",
      "Requirement already satisfied: ipython<9 in ./.tutorial-venv/lib/python3.10/site-packages (from ipympl) (8.24.0)\n",
      "Requirement already satisfied: ipywidgets<9,>=7.6.0 in ./.tutorial-venv/lib/python3.10/site-packages (from ipympl) (8.1.2)\n",
      "Requirement already satisfied: traitlets<6 in ./.tutorial-venv/lib/python3.10/site-packages (from ipympl) (5.14.3)\n",
      "Requirement already satisfied: importlib-metadata>=1.4 in ./.tutorial-venv/lib/python3.10/site-packages (from watermark) (7.1.0)\n",
      "Requirement already satisfied: setuptools in ./.tutorial-venv/lib/python3.10/site-packages (from watermark) (69.5.1)\n",
      "Requirement already satisfied: prompt-toolkit>=3.0.36 in ./.tutorial-venv/lib/python3.10/site-packages (from click-repl>=0.2.0->celery[redis]) (3.0.43)\n",
      "Requirement already satisfied: zipp>=0.5 in ./.tutorial-venv/lib/python3.10/site-packages (from importlib-metadata>=1.4->watermark) (3.18.1)\n",
      "Requirement already satisfied: decorator in ./.tutorial-venv/lib/python3.10/site-packages (from ipython<9->ipympl) (5.1.1)\n",
      "Requirement already satisfied: jedi>=0.16 in ./.tutorial-venv/lib/python3.10/site-packages (from ipython<9->ipympl) (0.19.1)\n",
      "Requirement already satisfied: matplotlib-inline in ./.tutorial-venv/lib/python3.10/site-packages (from ipython<9->ipympl) (0.1.7)\n",
      "Requirement already satisfied: pygments>=2.4.0 in ./.tutorial-venv/lib/python3.10/site-packages (from ipython<9->ipympl) (2.17.2)\n",
      "Requirement already satisfied: stack-data in ./.tutorial-venv/lib/python3.10/site-packages (from ipython<9->ipympl) (0.6.3)\n",
      "Requirement already satisfied: exceptiongroup in ./.tutorial-venv/lib/python3.10/site-packages (from ipython<9->ipympl) (1.2.1)\n",
      "Requirement already satisfied: typing-extensions>=4.6 in ./.tutorial-venv/lib/python3.10/site-packages (from ipython<9->ipympl) (4.11.0)\n",
      "Requirement already satisfied: pexpect>4.3 in ./.tutorial-venv/lib/python3.10/site-packages (from ipython<9->ipympl) (4.9.0)\n",
      "Requirement already satisfied: comm>=0.1.3 in ./.tutorial-venv/lib/python3.10/site-packages (from ipywidgets<9,>=7.6.0->ipympl) (0.2.2)\n",
      "Requirement already satisfied: widgetsnbextension~=4.0.10 in ./.tutorial-venv/lib/python3.10/site-packages (from ipywidgets<9,>=7.6.0->ipympl) (4.0.10)\n",
      "Requirement already satisfied: jupyterlab-widgets~=3.0.10 in ./.tutorial-venv/lib/python3.10/site-packages (from ipywidgets<9,>=7.6.0->ipympl) (3.0.10)\n",
      "Requirement already satisfied: amqp<6.0.0,>=5.1.1 in ./.tutorial-venv/lib/python3.10/site-packages (from kombu<6.0,>=5.3.4->celery[redis]) (5.2.0)\n",
      "Requirement already satisfied: six>=1.5 in ./.tutorial-venv/lib/python3.10/site-packages (from python-dateutil>=2.8.2->celery[redis]) (1.16.0)\n",
      "Requirement already satisfied: async-timeout>=4.0.3 in ./.tutorial-venv/lib/python3.10/site-packages (from redis!=4.5.5,<6.0.0,>=4.5.2->celery[redis]) (4.0.3)\n",
      "Requirement already satisfied: parso<0.9.0,>=0.8.3 in ./.tutorial-venv/lib/python3.10/site-packages (from jedi>=0.16->ipython<9->ipympl) (0.8.4)\n",
      "Requirement already satisfied: ptyprocess>=0.5 in ./.tutorial-venv/lib/python3.10/site-packages (from pexpect>4.3->ipython<9->ipympl) (0.7.0)\n",
      "Requirement already satisfied: wcwidth in ./.tutorial-venv/lib/python3.10/site-packages (from prompt-toolkit>=3.0.36->click-repl>=0.2.0->celery[redis]) (0.2.13)\n",
      "Requirement already satisfied: executing>=1.2.0 in ./.tutorial-venv/lib/python3.10/site-packages (from stack-data->ipython<9->ipympl) (2.0.1)\n",
      "Requirement already satisfied: asttokens>=2.1.0 in ./.tutorial-venv/lib/python3.10/site-packages (from stack-data->ipython<9->ipympl) (2.4.1)\n",
      "Requirement already satisfied: pure-eval in ./.tutorial-venv/lib/python3.10/site-packages (from stack-data->ipython<9->ipympl) (0.2.2)\n",
      "Note: you may need to restart the kernel to use updated packages.\n"
     ]
    }
   ],
   "source": [
    "%pip install --upgrade celery[redis] numpy scipy numba matplotlib tqdm ipympl ffmpeg watermark #circuitree==0.10.0 \n",
    "%load_ext watermark\n",
    "seed = 2024"
   ]
  },
  {
   "cell_type": "markdown",
   "metadata": {},
   "source": [
    "# Parallel MCTS with CircuiTree"
   ]
  },
  {
   "cell_type": "markdown",
   "metadata": {},
   "source": [
    "MCTS is an iterative sampling algorithm, where the reward found in each iteration affects sampling in later iterations. While perfect parallel execution isn't possible, we can achieve quite good performance using the so-called lock-free method [[1]](https://doi.org/10.1007/978-3-642-12993-3_2), where multiple multiple search threads in the same CPU (the *main node*) are running MCTS concurrently, each one taking turns editing the search graph. We will implement this in detail later in the tutorial, but in brief, instead of computing the (usually expensive) reward function, each search thread on the main node sends a request to a group of worker CPUs (the *worker node*) somewhere else that will do the actual computation, and while that thread is waiting for the result, other search threads can use the main CPU. As long as our execution time is significantly longer than the time spent sending and receiving those signals, we should see a performance boost!\n",
    "\n",
    "First let's watch a parallel search in action using an example case, a parallelized version of the \"bistability\" circuit search from Tutorial 1. Here, we will make each reward evaluation take 0.1 seconds longer by setting the flag `expensive=True`."
   ]
  },
  {
   "cell_type": "code",
   "execution_count": 3,
   "metadata": {},
   "outputs": [
    {
     "name": "stdout",
     "output_type": "stream",
     "text": [
      "Starting MCTS search with 10000 iters on 64 threads (156-157 iters per thread).\n",
      "Done!\n",
      "Elapsed time: 68.85 seconds\n"
     ]
    }
   ],
   "source": [
    "from tutorial_2_parallel_example import ParallelBistabilityTree\n",
    "from time import perf_counter\n",
    "\n",
    "# Create the tree search object\n",
    "tree = ParallelBistabilityTree(root=\"ABC::\")\n",
    "\n",
    "# # Run the search sequentially, with an expensive reward function (17 minutes)\n",
    "# tree.search_mcts(\n",
    "#     n_steps=10_000, run_kwargs=dict(expensive=True)  \n",
    "# )\n",
    "\n",
    "# # Search in parallel with 50 threads (ideally, 64x faster = 16 seconds)\n",
    "# start_time = perf_counter()\n",
    "# tree.search_mcts_parallel(\n",
    "#     n_steps=10_000, n_threads=64, run_kwargs=dict(expensive=True)\n",
    "# )\n",
    "# end_time = perf_counter()\n",
    "\n",
    "# print(\"Done!\")\n",
    "# print(f\"Elapsed time: {end_time - start_time:.2f} seconds\")"
   ]
  },
  {
   "cell_type": "markdown",
   "metadata": {},
   "source": [
    "## Parallel CircuiTree on a single machine\n",
    "\n",
    "In order to parallelize the search on a local machine, we can nominate a group of CPUs in our own computer to be the worker node that performs reward function evaluations. We can coordinate the main and worker nodes using a *producer-consumer* queue. The main node will produce tasks (calls to the reward function) that get added to the queue, and the worker node will consume tasks from the queue and return the result to a shared database where the main node can look up the result. We'll manage this task queue with the Python utility `celery`. \n",
    "\n",
    "Here's a schematic of how that infrastructure looks.\n",
    "\n",
    "![Local-Infrastructure](./local_parallel_infrastructure.png)\n",
    "\n",
    "### The 4 steps to setting up a local parallel search\n",
    "1) Set up a simple database.\n",
    "2) Package the reward function into a `celery` app.\n",
    "3) Define a `CircuiTree` subclass that calls the reward function in (2).\n",
    "4) Launch some workers."
   ]
  },
  {
   "cell_type": "markdown",
   "metadata": {},
   "source": [
    "### 1. Database installation\n",
    "\n",
    "We will be using a lightweight database called Redis (https://redis.io/).\n",
    "\n",
    "If you are running this notebook on Colab or on a machine without Redis installed, you can uncomment and run the next code block to install Redis. Otherwise, please skip the next code block and follow the installation instructions [here](https://redis.io/docs/latest/operate/oss_and_stack/install/install-redis/) instead. \n",
    "\n",
    "If you are using a Redis server hosted somewhere else, you can skip the next code block and change the `host` and `port` arguments later in the notebook to point to your server."
   ]
  },
  {
   "cell_type": "code",
   "execution_count": 4,
   "metadata": {},
   "outputs": [],
   "source": [
    "####################################################################################\n",
    "### If you are using Colab, uncomment and run this :) ##############################\n",
    "####################################################################################\n",
    "# # Download the latest stable release and make from source (can take a few minutes)\n",
    "# !curl -o ./redis-server.tar.gz -fsSL https://download.redis.io/redis-stable.tar.gz\n",
    "# !tar -xf ./redis-server.tar.gz\n",
    "# !cd ./redis-stable && make # Can take a while (5+ minutes)\n",
    "# !/content/redis-stable/src/redis-server --daemonize yes"
   ]
  },
  {
   "cell_type": "markdown",
   "metadata": {},
   "source": [
    "**Be sure to test your installation!!**"
   ]
  },
  {
   "cell_type": "code",
   "execution_count": 5,
   "metadata": {},
   "outputs": [
    {
     "name": "stdout",
     "output_type": "stream",
     "text": [
      "PONG\n"
     ]
    }
   ],
   "source": [
    "## This should return \"PONG\"\n",
    "\n",
    "# Colab notebook users\n",
    "# !/content/redis-stable/src/redis-cli ping \n",
    "\n",
    "# Local installations\n",
    "!redis-cli ping "
   ]
  },
  {
   "cell_type": "markdown",
   "metadata": {},
   "source": [
    "### 2. Making a `celery` app with the reward function \n",
    "The app is a Python script that tells `celery` where the database is and which tasks it will be managing. For instance, here is the script for the bistability app."
   ]
  },
  {
   "cell_type": "code",
   "execution_count": 6,
   "metadata": {},
   "outputs": [
    {
     "name": "stdout",
     "output_type": "stream",
     "text": [
      "from celery import Celery\n",
      "from circuitree.models import SimpleNetworkGrammar\n",
      "import numpy as np\n",
      "from time import sleep\n",
      "from tutorial_1_basic_example import get_bistability_reward\n",
      "\n",
      "# Specify the address of the Redis server and create a Celery app\n",
      "broker_url = \"redis://localhost:6379\"\n",
      "app = Celery(\"bistability\", broker=broker_url, backend=broker_url)\n",
      "\n",
      "# Define the grammar here also so it can be accessed by workers\n",
      "grammar = SimpleNetworkGrammar([\"A\", \"B\"], [\"activates\", \"inhibits\"])\n",
      "\n",
      "\n",
      "@app.task\n",
      "def get_reward_celery(state: str, seed: int, expensive: bool = False) -> float:\n",
      "    \"\"\"Returns a reward value for the given state based on how many types of positive\n",
      "    feedback loops (PFLs) it contains. Same as `BistabilityTree.get_reward()`.\"\"\"\n",
      "\n",
      "    # Get a high-quality random seed and calculate the reward\n",
      "    hq_seed = np.random.SeedSequence(seed).generate_state(1)[0]\n",
      "    rg = np.random.default_rng(hq_seed)\n",
      "    reward = get_bistability_reward(state, rg, grammar)\n",
      "\n",
      "    if expensive:  # Simulate an expensive reward calculation\n",
      "        sleep(0.1)\n",
      "\n",
      "    return reward\n",
      "\n"
     ]
    }
   ],
   "source": [
    "from pathlib import Path\n",
    "\n",
    "print(Path(\"tutorial_app.py\").read_text())"
   ]
  },
  {
   "cell_type": "markdown",
   "metadata": {},
   "source": [
    "We use the `Celery` command to create an app that uses the `Redis` database to pass messages (the `broker` option) and store results (the `backend` argument). The URL here points to the default location for a local database (port `6379` on the `localhost` network). Any function with the `@app.task` decorator becomes a `celery` *task* that can be executed by a worker - we'll see how this looks in the next section."
   ]
  },
  {
   "cell_type": "markdown",
   "metadata": {},
   "source": [
    "### 3. Calling the reward function as a `celery` task\n",
    "\n",
    "Unlike a normal function call, a call to a `celery` task is *asynchronous*. This means that when the main node calls the function, it dispatches a task to the workers, and the result can be requested later. This uses different syntax - instead of running `reward = get_reward(...)` directly, we run `result = get_reward_celery.delay(...)` to dispatch the task from the main node to the workers. This immediately returns an `AsyncResult` object that can be inspected to monitor progress. Then, once we need the result, we call `future.get()` and wait for the reward to arrive. While one thread is waiting for the reply, another thread can take over the main node and run a search iteration. \n",
    "\n",
    "All we need to do in this step is make a new subclass of `CircuiTree` that runs the reward function using the app. Here's what that looks like in our bistability example."
   ]
  },
  {
   "cell_type": "code",
   "execution_count": 7,
   "metadata": {},
   "outputs": [
    {
     "name": "stdout",
     "output_type": "stream",
     "text": [
      "### Must be run before you declare any multithreaded code using gevent, and it must be\n",
      "### run as the first lines of the script! Patches the Python standard library to be\n",
      "### compatible with gevent's cooperative threading.\n",
      "from gevent import monkey\n",
      "\n",
      "monkey.patch_all()\n",
      "\n",
      "from tutorial_1_basic_example import BistabilityTree\n",
      "from tutorial_app import app, get_reward_celery\n",
      "\n",
      "\n",
      "class ParallelBistabilityTree(BistabilityTree):\n",
      "    \"\"\"A subclass of BistabilityTree with parallel reward evaluations. This class is\n",
      "    identical to BistabilityTree, except that it uses a Celery task to compute the\n",
      "    reward function in a separate process. This allows the main thread to continue\n",
      "    sampling the search space while the reward is being computed.\n",
      "\n",
      "    Uses the `expensive` flag to simulate a more expensive reward calculation.\n",
      "    \"\"\"\n",
      "\n",
      "    def get_reward(self, state, expensive=False):\n",
      "        # Generate a unique random seed and run the task in a worker\n",
      "        seed = int(self.rg.integers(0, 2**32))\n",
      "        result = get_reward_celery.delay(state, seed, expensive=expensive)\n",
      "        reward = result.get()\n",
      "        return reward\n",
      "\n"
     ]
    }
   ],
   "source": [
    "print(Path(\"tutorial_2_parallel_example.py\").read_text())"
   ]
  },
  {
   "cell_type": "markdown",
   "metadata": {},
   "source": [
    "Python's `threading` module can manage up to a few dozen threads, but we want to run a search with hundreds to thousands of threads. For this, we will use the `gevent` module, which re-defines many of the built-in Python commands in order to support its highly scalable \"green threads.\" Re-defining built-in code is called \"monkey patching,\" and it has to be run as the first line in the file where we define the class. (We also ran `monkey.patch_all()` at the beginning of this notebook - this is only necessary for notebooks, not for scripts.)"
   ]
  },
  {
   "cell_type": "markdown",
   "metadata": {},
   "source": [
    "### 4. Launching a worker node"
   ]
  },
  {
   "cell_type": "markdown",
   "metadata": {},
   "source": [
    "We can launch a worker node using `celery`'s command line interface. To do so, open a separate terminal and run the following command, replacing the `XX` with the number of CPUs to use. If you are using a virtual environment, be sure to activate that first. (If you aren't, you should be!)\n",
    "\n",
    "```\n",
    "celery \\\n",
    "    --app tutorial_app.app \\ # The app name with the '.app' suffix\n",
    "    worker \\                 # Launch a worker\n",
    "    --concurrency=XX         # Number of CPUs\n",
    "```"
   ]
  },
  {
   "cell_type": "markdown",
   "metadata": {},
   "source": [
    "---"
   ]
  },
  {
   "cell_type": "markdown",
   "metadata": {},
   "source": []
  }
 ],
 "metadata": {
  "kernelspec": {
   "display_name": ".tutorial-venv",
   "language": "python",
   "name": "python3"
  },
  "language_info": {
   "codemirror_mode": {
    "name": "ipython",
    "version": 3
   },
   "file_extension": ".py",
   "mimetype": "text/x-python",
   "name": "python",
   "nbconvert_exporter": "python",
   "pygments_lexer": "ipython3",
   "version": "3.10.8"
  }
 },
 "nbformat": 4,
 "nbformat_minor": 2
}
